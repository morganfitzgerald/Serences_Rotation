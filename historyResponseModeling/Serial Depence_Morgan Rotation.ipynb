#!/usr/bin/env python
# coding: utf-8

# # Pooled Bias Across Visual Varying Sitmului
# 
# Tim's git hub code: https://github.com/TimCSheehan/historyResponseModeling
# 
# Holly's data: 'data/WM_noisev8_230316.csv'
# 
# The path to the data is: smb://cube.ucsd.edu/pclexp/Holly/Holmes/Data. The .mat files are individual subject's data which I compiled the information that I needed to take a preliminary look at main effects in a .csv file in the same folder.
# 

# Holly's Data: 
# - [x] kappa - bandwidth of the orientation filter for the target stimuli (low kappa means an orientation that looks more noisy and high kappa is an orientation that looks clearer)
# - [x] traj - trajectory which is the trajectory of the response (which way they spun the orientation response line)
# - [x] orient - probed item orientation (aka correctAngle)
# - [x] distractor - non-probed item orientation (aka distractAngle)
# - [x] respRT - response time (aka RT) 
# - [x] acc - accuracy (the target orientation - the response orientation); aka E
# - [x] resp - final orientation response in degrees (aka respAngle)
# - [x] subject - participant

# To do: 
# 1st
# - Filter the data based on distrctor (0 or 1) 
# - Plot serial dependence w/ and w/o distractor 
# 
# 2nd
# - Filter the data based on kappa (50, 100, 5000) 
# - Loop through trials, store data in a dataframe 
#     - low - low 
#     -  high - low 
#     - high - high 
#     - low - high 
#     
# 

# In[1]:


# imports/ helper functions
import numpy as np
import pandas as pd

import matplotlib.pyplot as plt
import seaborn as sns
from scipy import stats, optimize
pi=np.pi
pm = np.array((-1,1))
r2d,d2r = 180/pi,pi/180
r2d2,d2r2  = 90/pi,pi/90
ori_wrap = lambda x: SDF.wrap(x*2)/2

# modules from this package.
import SD_functions as SDF
import responseModel as RM

def sav_fig(nam):
    root = './Figs/'
    plt.savefig(root + nam +'.svg',dpi=1200)


# # Load Data.
# 1- row per trial. Particiapnts concatenated vertically.
# 
# 
# **Informative Columns:**
# 1. orient - probed item orientation (aka correctAngle)
# 1. subject       - participant
# 1. distractor - non-probed item orientation (aka distractAngle)
# 1. resp    - reported orientation (aka respAngle)
# 1. acc             - wrap(respAngle-correctAngle); aka (E)
# 1. respRT            - response time. timed out at 5000ms (aka respRT)
# 1. indProbed     - which item was probed (First, 0; or second, 1)
# 
# **Uninformative Columns:** kappa, traj

# In[2]:


data = pd.read_csv('data/WM_noisev8_230316.csv')
data.head()
display(data)

# # Replace empty or whitespace values with NaN
# data.replace(" ", np.NaN, inplace=True)



# In[3]:


data.info()


# In[4]:


data.describe()


# # Visualizing the data

# In[5]:


# Visualize missing values in the dataset
import missingno

missingno.matrix(data)
plt.show()


# In[6]:


import plotly.express as px
import pandas as pd

# # Load data from CSV file
# data = pd.read_csv("data.csv")

# Create a scatter plot
fig = px.scatter(data, x="subject", y="acc")

# Add labels and title
fig.update_xaxes(title="Subject Numeber")
fig.update_yaxes(title="Accuracy")
fig.update_layout(title="Data visualization - Subject x Accuracy")

# Show the chart
fig.show()


# # Distractor vs. Control 
# 

# In[7]:


# Initialize an empty list to store the trials that had a distractor
distractor_cond = []

# Loop through each row in the DataFrame
for index, row in data.iterrows():
    # Check if the distractor value is > 0 
    if row["distractor"] > 0:
        # If the distractor value is > 0, append the trial to the list
        distractor_cond.append(row)
        
# Create a new DataFrame from the selected rows
distractor_data = pd.DataFrame(distractor_cond)

# Print the list of subjects where distractor is > 0 
distractor_data.head()


# In[8]:


#distractor condition 
nb=-1
d_ori = SDF.get_nb(nb,distractor_data['orient'].values,1,ori_wrap) # dStim_nb
tmp_ori = SDF.wrap(distractor_data.orient * 2) / 2

n_bns = 91
bns = np.linspace(-90,90,n_bns)
overlap = 3

# ind = (np.isnan(data['acc']))
# tmp_data = data['acc'][ind==False]
# tmp_ori = data.orient[ind==False]
distractor_sd = SDF.do_bining(bns,overlap,d_ori,distractor_data['acc']*d2r2,want_var='circ_mean')*r2d2
distractor_cb = SDF.do_bining(bns,overlap,tmp_ori,distractor_data['acc']*d2r2,want_var='circ_mean')*r2d2


# In[9]:


# Initialize an empty list to store the trials that were control (no distractor)
control_cond = []

# Loop through each row in the DataFrame
for index, row in data.iterrows():
    # Check if the distractor value is > 0 
    if row["distractor"] == 0:
        # If the distractor value is > 0, append the trial to the list
        control_cond.append(row)
        
# Create a new DataFrame from the selected rows
control_data = pd.DataFrame(control_cond)

# Print the list of subjects where distractor is > 0 
control_data.head()


# In[10]:


#control condition 
nb=-1
d_ori = SDF.get_nb(nb,control_data['orient'].values,1,ori_wrap) # dStim_nb
tmp_ori = SDF.wrap(control_data.orient * 2) / 2


n_bns = 91
bns = np.linspace(-90,90,n_bns)
overlap = 3

# ind = (np.isnan(data['acc']))
# tmp_data = data['acc'][ind==False]
# tmp_ori = data.orient[ind==False]
control_sd = SDF.do_bining(bns,overlap,d_ori,control_data['acc']*d2r2,want_var='circ_mean')*r2d2
control_cb = SDF.do_bining(bns,overlap,tmp_ori,control_data['acc']*d2r2,want_var='circ_mean')*r2d2


# In[11]:


#graph cardinal bias - distractor vs. no distractor 
plt.figure(figsize=(3,4))
plt.plot(bns,distractor_cb,color='r',label='Distract. Cardinal Bias')
plt.plot(bns,control_cb,color='k',label='Cont. Cardinal Bias')
plt.xlabel("Δθ (deg)")
plt.ylabel("% of responses")
SDF.d_plot(1,9.9,-90)
plt.legend()
plt.title('Cardianl Bias')
plt.show()


# In[12]:


#Serial Bias - distractor vs. no distractor 
plt.figure(figsize=(3,4))
plt.plot(bns,distractor_sd,'k',label='$Distract-Stim~_{N-1}$')
plt.plot(bns,control_sd,'r',label='$Control-Stim~_{N-1}$')
plt.xlabel("Δθ (deg)")
plt.ylabel("% of responses")
SDF.d_plot(1,9.9,-90)
plt.legend()
plt.title('Serial Bias')
plt.show()


# # Distractor-Distractor vs. Control 
# 
# Here I am specifying if there was a distractor followed by a distractor 

# In[13]:


#Distractor-distractor:  

# Initialize an empty list to store the selected rows
distractor_selected_rows = []

# Loop through each row in the DataFrame
for index, row in data.iterrows():
    # Check if the distractor value is greater than 0 and if the previous row's distractor value is also greater than 0
    if row["distractor"] > 0 and data.loc[index - 1, "distractor"] > 0:
        # If the current and previous distractor values are both greater than 0, append the row to the list
        distractor_selected_rows.append(row)

# Create a new DataFrame from the selected rows
distractor_selected_data = pd.DataFrame(distractor_selected_rows)

# Print the selected data
print(distractor_selected_data)


# In[14]:


#graph distractor-distractor 
nb=-1
d_ori = SDF.get_nb(nb,distractor_selected_data['orient'].values,1,ori_wrap) # dStim_nb
tmp_ori = SDF.wrap(distractor_selected_data.orient * 2) / 2


n_bns = 91
bns = np.linspace(-90,90,n_bns)
overlap = 3

# ind = (np.isnan(data['acc']))
# tmp_data = data['acc'][ind==False]
# tmp_ori = data.orient[ind==False]
distractor_distractor_sd = SDF.do_bining(bns,overlap,d_ori,distractor_selected_data['acc']*d2r2,want_var='circ_mean')*r2d2
distractor_distractor_cb = SDF.do_bining(bns,overlap,tmp_ori,distractor_selected_data['acc']*d2r2,want_var='circ_mean')*r2d2

#Serial Bias - distractor vs. no distractor 

plt.figure(figsize=(3,4))
plt.plot(bns,control_sd,'k',label='$Control-Stim~_{N-1}$')

plt.plot(bns,distractor_distractor_sd,'r',label='$Distract-Stim~_{N-1}$')
plt.xlabel("Δθ (deg)")
plt.ylabel("% of responses")
SDF.d_plot(1,9.9,-90)
plt.legend()
plt.title('Serial Bias: distractor_distractor')
plt.show()

#graph cardinal bias - distractor vs. no distractor 
plt.figure(figsize=(3,4))
plt.plot(bns,control_cb,color='k',label='Cont. Cardinal Bias')
plt.plot(bns,distractor_distractor_cb,color='r',label='Cardinal Bias')
plt.xlabel("Δθ (deg)")
plt.ylabel("% of responses")  
SDF.d_plot(1,9.9,-90)
plt.legend()
plt.title('Cardianl Bias: distractor_distractor')
plt.show()


# #  Division by Kappa Value
# 
# - Filter the data based on kappa (50, 100, 5000) 
# - Loop through trials, store data in a dataframe 
#     - low - low 
#     -  high - low 
#     - high - high 
#     - low - high 
#     
#   *This is across all trials (distractor and non-distractor) 
#     

# ## Low - Low Kappa (all trials)

# In[22]:


# Initialize an empty list to store the trials that had a distractor
low_low_kappa_cond = []

# Loop through each row in the DataFrame
for index, row in data.iterrows():
    # Check if the distractor value is > 0 
    if row["kappa"] == 50 and data.loc[index-1, "kappa"] == 50:
        # If the distractor value is > 0, append the trial to the list
        low_low_kappa_cond.append(row)
        
# Create a new DataFrame from the selected rows
low_low_kappa_cond_data = pd.DataFrame(low_low_kappa_cond)

#graph low_low_kappa serial dependence 
nb=-1
d_ori = SDF.get_nb(nb,low_low_kappa_cond_data['orient'].values,1,ori_wrap) # dStim_nb
tmp_ori = SDF.wrap(low_low_kappa_cond_data.orient * 2) / 2


n_bns = 91
bns = np.linspace(-90,90,n_bns)
overlap = 3

# ind = (np.isnan(data['acc']))
# tmp_data = data['acc'][ind==False]
# tmp_ori = data.orient[ind==False]
low_low_kappa_cond_sd = SDF.do_bining(bns,overlap,d_ori,low_low_kappa_cond_data['acc']*d2r2,want_var='circ_mean')*r2d2
low_low_kappa_cond_cb = SDF.do_bining(bns,overlap,tmp_ori,low_low_kappa_cond_data['acc']*d2r2,want_var='circ_mean')*r2d2

#Serial Bias - low-low kappa

# #Control w/ out distractor
# plt.plot(bns,control_sd,'r',label='$Control-Stim~_{N-1}$')
# plt.plot(bns,control_cb,color='k',label='Cont. Cardinal Bias')

plt.figure(figsize=(3,4))
plt.plot(bns,low_low_kappa_cond_sd,'k',label='$Stim~_{N-1}$')
plt.plot(bns,low_low_kappa_cond_cb,color='r',label='Cardinal Bias')
plt.xlabel("Δθ (deg)")
plt.ylabel("% of responses")
SDF.d_plot(1,9.9,-90)
plt.legend()
plt.title('Pooled Bias:Low-Low Kappa All Trials')

# # Print the list of subjects where distractor is > 0 
# low_low_kappa_cond_data.head()
plt.show()


# ## Low - Low Kappa (distractor vs. control trials)

# In[23]:


# Initialize an empty list to store the trials that had a distractor
low_low_kappa_distractor = []

# Loop through each row in the DataFrame
for index, row in data.iterrows():
    # Check if the distractor value is > 0 
    if row["kappa"] == 50 and data.loc[index-1, "kappa"] == 50 and row["distractor"] > 0:
        # If the distractor value is > 0, append the trial to the list
        low_low_kappa_distractor.append(row)
        
# Create a new DataFrame from the selected rows
low_low_kappa_distractor_data = pd.DataFrame(low_low_kappa_distractor)

# Print the list of subjects where distractor is > 0 
low_low_kappa_distractor_data.head()


# In[24]:


#graph low_low_kappa pooled bias for distractor vs. control trials 
nb=-1
d_ori = SDF.get_nb(nb,low_low_kappa_distractor_data['orient'].values,1,ori_wrap) # dStim_nb
tmp_ori = SDF.wrap(low_low_kappa_distractor_data.orient * 2) / 2


n_bns = 91
bns = np.linspace(-90,90,n_bns)
overlap = 3

# ind = (np.isnan(data['acc']))
# tmp_data = data['acc'][ind==False]
# tmp_ori = data.orient[ind==False]
low_low_kappa_distractor_sd = SDF.do_bining(bns,overlap,d_ori,low_low_kappa_distractor_data['acc']*d2r2,want_var='circ_mean')*r2d2
low_low_kappa_distractor_cb = SDF.do_bining(bns,overlap,tmp_ori,low_low_kappa_distractor_data['acc']*d2r2,want_var='circ_mean')*r2d2

#Pooled Bias - low-low kappa

# #Control w/ out distractor
# plt.plot(bns,control_sd,'r',label='$Control-Stim~_{N-1}$')
# plt.plot(bns,control_cb,color='k',label='Cont. Cardinal Bias')

plt.figure(figsize=(3,4))
plt.plot(bns,low_low_kappa_distractor_sd,'k',label='$Stim~_{N-1}$')
plt.plot(bns,low_low_kappa_distractor_cb,color='r',label='Cardinal Bias')
plt.xlabel("Δθ (deg)")
plt.ylabel("% of responses")
SDF.d_plot(1,9.9,-90)
plt.legend()
plt.title('Pooled Bias:low_low kappa distractor trials')
plt.show()


# In[30]:


#Pooled Bias - low-low kappa: distractor and control 

# #Control w/ out distractor
# plt.plot(bns,control_sd,'r',label='$Control-Stim~_{N-1}$')
# plt.plot(bns,control_cb,color='k',label='Cont. Cardinal Bias')

#Serial Bias
plt.figure(figsize=(3,4))
plt.plot(bns,control_sd,'k',label='$ContStim~_{N-1}$')

plt.plot(bns,low_low_kappa_distractor_sd,'r',label='$Stim~_{N-1}$')
plt.xlabel("Δθ (deg)")
plt.ylabel("% of responses")
SDF.d_plot(1,9.9,-90)
plt.legend()
plt.title('Serial Bias:low_low kappa distractor trials')
plt.show()

#Caridnal Bias
plt.figure(figsize=(3,4))
plt.plot(bns,control_cb,color='k',label='ContCardinal Bias')

plt.plot(bns,low_low_kappa_distractor_cb,color='r',label='Cardinal Bias')

plt.xlabel("Δθ (deg)")
plt.ylabel("% of responses")
SDF.d_plot(1,9.9,-90)
plt.legend()
plt.title('Cardinal Bias:low_low kappa distractor trials')
plt.show()


# ## Low-high kappa

# In[19]:


# Initialize an empty list to store the trials that had a distractor
low_high_kappa_ = []

# Loop through each row in the DataFrame
for index, row in data.iterrows():
    # Check if the distractor value is > 0 
    if row["kappa"] == 50 and data.loc[index-1, "kappa"] > 100:
        # If the distractor value is > 0, append the trial to the list
        low_high_kappa_cond.append(row)
        
# Create a new DataFrame from the selected rows
low_high_kappa_cond_data = pd.DataFrame(low_high_kappa_cond)

# Print the list of subjects where distractor is > 0 
low_high_kappa_cond_data.head()


# In[20]:


#graph low_low_kappa serial dependence 
nb=-1
d_ori = SDF.get_nb(nb,low_high_kappa_cond_data['orient'].values,1,ori_wrap) # dStim_nb
tmp_ori = SDF.wrap(low_high_kappa_cond_data.orient * 2) / 2


n_bns = 91
bns = np.linspace(-90,90,n_bns)
overlap = 3

# ind = (np.isnan(data['acc']))
# tmp_data = data['acc'][ind==False]
# tmp_ori = data.orient[ind==False]
low_high_kappa_cond_sd = SDF.do_bining(bns,overlap,d_ori,low_high_kappa_cond_data['acc']*d2r2,want_var='circ_mean')*r2d2
low_high_kappa_cond_cb = SDF.do_bining(bns,overlap,tmp_ori,low_high_kappa_cond_data['acc']*d2r2,want_var='circ_mean')*r2d2

#Serial Bias - low-low kappa

# #Control w/ out distractor
# plt.plot(bns,control_sd,'r',label='$Control-Stim~_{N-1}$')
# plt.plot(bns,control_cb,color='k',label='Cont. Cardinal Bias')

plt.figure(figsize=(3,4))
plt.plot(bns,low_high_kappa_cond_sd,'k',label='$low-high-kappa-Stim~_{N-1}$')
plt.xlabel("Δθ (deg)")
plt.ylabel("% of responses")
SDF.d_plot(1,9.9,-90)
plt.legend()
plt.title('Serial Bias:low_high_kappa')
plt.show()

#graph cardinal bias - distractor vs. no distractor 
plt.figure(figsize=(3,4))
plt.plot(bns,low_high_kappa_cond_cb,color='r',label='low-high-kappa Cardinal Bias')
plt.xlabel("Δθ (deg)")
plt.ylabel("% of responses")
SDF.d_plot(1,9.9,-90)
plt.legend()
plt.title('Cardianl Bias: low_high_kappa_kappa')
plt.show()

