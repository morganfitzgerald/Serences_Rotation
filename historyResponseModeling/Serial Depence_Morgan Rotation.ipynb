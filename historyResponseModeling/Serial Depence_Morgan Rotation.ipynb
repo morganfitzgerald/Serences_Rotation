Pooled Bias Across Visual Varying Sitmului
Tim's git hub code: https://github.com/TimCSheehan/historyResponseModeling

Holly's data: 'data/WM_noisev8_230316.csv'

The path to the data is: smb://cube.ucsd.edu/pclexp/Holly/Holmes/Data. The .mat files are individual subject's data which I compiled the information that I needed to take a preliminary look at main effects in a .csv file in the same folder.

Holly's Data:

[x] kappa - bandwidth of the orientation filter for the target stimuli (low kappa means an orientation that looks more noisy and high kappa is an orientation that looks clearer)
[x] traj - trajectory which is the trajectory of the response (which way they spun the orientation response line)
[x] orient - probed item orientation (aka correctAngle)
[x] distractor - non-probed item orientation (aka distractAngle)
[x] respRT - response time (aka RT)
[x] acc - accuracy (the target orientation - the response orientation); aka E
[x] resp - final orientation response in degrees (aka respAngle)
[x] subject - participant
To do: 1st

Filter the data based on distrctor (0 or 1)
Plot serial dependence w/ and w/o distractor
2nd

Filter the data based on kappa (50, 100, 5000)
Loop through trials, store data in a dataframe
low - low
high - low
high - high
low - high
# imports/ helper functions
import numpy as np
import pandas as pd

import matplotlib.pyplot as plt
import seaborn as sns
from scipy import stats, optimize
pi=np.pi
pm = np.array((-1,1))
r2d,d2r = 180/pi,pi/180
r2d2,d2r2  = 90/pi,pi/90
ori_wrap = lambda x: SDF.wrap(x*2)/2

# modules from this package.
import SD_functions as SDF
import responseModel as RM

def sav_fig(nam):
    root = './Figs/'
    plt.savefig(root + nam +'.svg',dpi=1200)
Load Data.
1- row per trial. Particiapnts concatenated vertically.

Informative Columns:

orient - probed item orientation (aka correctAngle)
subject - participant
distractor - non-probed item orientation (aka distractAngle)
resp - reported orientation (aka respAngle)
acc - wrap(respAngle-correctAngle); aka (E)
respRT - response time. timed out at 5000ms (aka respRT)
indProbed - which item was probed (First, 0; or second, 1)
Uninformative Columns: kappa, traj

data = pd.read_csv('data/WM_noisev8_230316.csv')
data.head()
display(data)

# # Replace empty or whitespace values with NaN
# data.replace(" ", np.NaN, inplace=True)
orient	distractor	kappa	subject	resp	respRT	acc	traj
0	47	0.00	100	2	NaN	0.000000	NaN	0.0
1	143	1.00	5000	2	153.0	2.423917	10.0	50.0
2	84	0.00	50	2	NaN	0.000000	NaN	0.0
3	104	0.00	100	2	106.0	1.882485	2.0	-19.0
4	161	1.00	50	2	NaN	0.000000	NaN	0.0
...	...	...	...	...	...	...	...	...
15115	117	1.00	100	43	99.0	2.541777	-18.0	70.0
15116	109	0.15	5000	43	127.0	2.506347	18.0	-17.0
15117	101	1.00	5000	43	104.0	2.541367	3.0	-13.0
15118	159	0.15	50	43	21.0	2.541478	42.0	-156.0
15119	38	1.00	50	43	15.5	2.541546	-22.5	-67.5
15120 rows × 8 columns

data.info()
<class 'pandas.core.frame.DataFrame'>
RangeIndex: 15120 entries, 0 to 15119
Data columns (total 8 columns):
 #   Column      Non-Null Count  Dtype  
---  ------      --------------  -----  
 0   orient      15120 non-null  int64  
 1   distractor  15120 non-null  float64
 2   kappa       15120 non-null  int64  
 3   subject     15120 non-null  int64  
 4   resp        13855 non-null  float64
 5   respRT      15120 non-null  float64
 6   acc         13855 non-null  float64
 7   traj        15120 non-null  float64
dtypes: float64(5), int64(3)
memory usage: 945.1 KB
data.describe()
orient	distractor	kappa	subject	resp	respRT	acc	traj
count	15120.000000	15120.000000	15120.000000	15120.000000	13855.000000	15120.000000	13855.000000	15120.000000
mean	89.806217	0.383333	1716.666667	22.500000	88.844172	1.468085	0.381523	-1.766799
std	52.075692	0.440343	2321.833779	12.121319	50.866727	0.721358	25.129271	71.367620
min	1.000000	0.000000	50.000000	2.000000	0.500000	0.000000	-90.000000	-177.000000
25%	45.000000	0.000000	50.000000	12.000000	45.000000	0.965171	-10.000000	-50.000000
50%	90.000000	0.150000	100.000000	22.500000	85.000000	1.447690	0.000000	0.000000
75%	135.000000	1.000000	5000.000000	33.000000	133.000000	2.071039	11.000000	46.000000
max	180.000000	1.000000	5000.000000	43.000000	180.000000	2.553728	90.000000	178.000000
Visualizing the data
# Visualize missing values in the dataset
import missingno

missingno.matrix(data)
plt.show()

import plotly.express as px
import pandas as pd

# # Load data from CSV file
# data = pd.read_csv("data.csv")

# Create a scatter plot
fig = px.scatter(data, x="subject", y="acc")

# Add labels and title
fig.update_xaxes(title="Subject Numeber")
fig.update_yaxes(title="Accuracy")
fig.update_layout(title="Data visualization - Subject x Accuracy")

# Show the chart
fig.show()
Distractor vs. Control
# Initialize an empty list to store the trials that had a distractor
distractor_cond = []

# Loop through each row in the DataFrame
for index, row in data.iterrows():
    # Check if the distractor value is > 0 
    if row["distractor"] > 0:
        # If the distractor value is > 0, append the trial to the list
        distractor_cond.append(row)
        
# Create a new DataFrame from the selected rows
distractor_data = pd.DataFrame(distractor_cond)

# Print the list of subjects where distractor is > 0 
distractor_data.head()
orient	distractor	kappa	subject	resp	respRT	acc	traj
1	143.0	1.00	5000.0	2.0	153.0	2.423917	10.0	50.0
4	161.0	1.00	50.0	2.0	NaN	0.000000	NaN	0.0
6	8.0	0.15	5000.0	2.0	NaN	0.000000	NaN	0.0
7	169.0	1.00	100.0	2.0	119.0	1.776715	-50.0	104.0
8	18.0	1.00	100.0	2.0	NaN	0.000000	NaN	0.0
#distractor condition 
nb=-1
d_ori = SDF.get_nb(nb,distractor_data['orient'].values,1,ori_wrap) # dStim_nb
tmp_ori = SDF.wrap(distractor_data.orient * 2) / 2

n_bns = 91
bns = np.linspace(-90,90,n_bns)
overlap = 3

# ind = (np.isnan(data['acc']))
# tmp_data = data['acc'][ind==False]
# tmp_ori = data.orient[ind==False]
distractor_sd = SDF.do_bining(bns,overlap,d_ori,distractor_data['acc']*d2r2,want_var='circ_mean')*r2d2
distractor_cb = SDF.do_bining(bns,overlap,tmp_ori,distractor_data['acc']*d2r2,want_var='circ_mean')*r2d2
# Initialize an empty list to store the trials that were control (no distractor)
control_cond = []

# Loop through each row in the DataFrame
for index, row in data.iterrows():
    # Check if the distractor value is > 0 
    if row["distractor"] == 0:
        # If the distractor value is > 0, append the trial to the list
        control_cond.append(row)
        
# Create a new DataFrame from the selected rows
control_data = pd.DataFrame(control_cond)

# Print the list of subjects where distractor is > 0 
control_data.head()
orient	distractor	kappa	subject	resp	respRT	acc	traj
0	47.0	0.0	100.0	2.0	NaN	0.000000	NaN	0.0
2	84.0	0.0	50.0	2.0	NaN	0.000000	NaN	0.0
3	104.0	0.0	100.0	2.0	106.0	1.882485	2.0	-19.0
5	140.0	0.0	5000.0	2.0	137.0	1.670809	-3.0	44.0
10	82.0	0.0	50.0	2.0	NaN	0.000000	NaN	0.0
#control condition 
nb=-1
d_ori = SDF.get_nb(nb,control_data['orient'].values,1,ori_wrap) # dStim_nb
tmp_ori = SDF.wrap(control_data.orient * 2) / 2


n_bns = 91
bns = np.linspace(-90,90,n_bns)
overlap = 3

# ind = (np.isnan(data['acc']))
# tmp_data = data['acc'][ind==False]
# tmp_ori = data.orient[ind==False]
control_sd = SDF.do_bining(bns,overlap,d_ori,control_data['acc']*d2r2,want_var='circ_mean')*r2d2
control_cb = SDF.do_bining(bns,overlap,tmp_ori,control_data['acc']*d2r2,want_var='circ_mean')*r2d2
#graph cardinal bias - distractor vs. no distractor 
plt.figure(figsize=(3,4))
plt.plot(bns,distractor_cb,color='r',label='Distract. Cardinal Bias')
plt.plot(bns,control_cb,color='k',label='Cont. Cardinal Bias')
plt.xlabel("Δθ (deg)")
plt.ylabel("% of responses")
SDF.d_plot(1,9.9,-90)
plt.legend()
plt.title('Cardianl Bias')
plt.show()

#Serial Bias - distractor vs. no distractor 
plt.figure(figsize=(3,4))
plt.plot(bns,distractor_sd,'k',label='$Distract-Stim~_{N-1}$')
plt.plot(bns,control_sd,'r',label='$Control-Stim~_{N-1}$')
plt.xlabel("Δθ (deg)")
plt.ylabel("% of responses")
SDF.d_plot(1,9.9,-90)
plt.legend()
plt.title('Serial Bias')
plt.show()

Distractor-Distractor vs. Control
Here I am specifying if there was a distractor followed by a distractor

#Distractor-distractor:  

# Initialize an empty list to store the selected rows
distractor_selected_rows = []

# Loop through each row in the DataFrame
for index, row in data.iterrows():
    # Check if the distractor value is greater than 0 and if the previous row's distractor value is also greater than 0
    if row["distractor"] > 0 and data.loc[index - 1, "distractor"] > 0:
        # If the current and previous distractor values are both greater than 0, append the row to the list
        distractor_selected_rows.append(row)

# Create a new DataFrame from the selected rows
distractor_selected_data = pd.DataFrame(distractor_selected_rows)

# Print the selected data
print(distractor_selected_data)
       orient  distractor   kappa  subject   resp    respRT   acc   traj
7       169.0        1.00   100.0      2.0  119.0  1.776715 -50.0  104.0
8        18.0        1.00   100.0      2.0    NaN  0.000000   NaN    0.0
9        34.0        1.00  5000.0      2.0   20.0  2.553185 -14.0 -100.0
12       57.0        1.00    50.0      2.0    NaN  0.000000   NaN    0.0
13      136.0        0.15   100.0      2.0  130.0  1.824038  -6.0   56.0
...       ...         ...     ...      ...    ...       ...   ...    ...
15115   117.0        1.00   100.0     43.0   99.0  2.541777 -18.0   70.0
15116   109.0        0.15  5000.0     43.0  127.0  2.506347  18.0  -17.0
15117   101.0        1.00  5000.0     43.0  104.0  2.541367   3.0  -13.0
15118   159.0        0.15    50.0     43.0   21.0  2.541478  42.0 -156.0
15119    38.0        1.00    50.0     43.0   15.5  2.541546 -22.5  -67.5

[6712 rows x 8 columns]
#graph distractor-distractor 
nb=-1
d_ori = SDF.get_nb(nb,distractor_selected_data['orient'].values,1,ori_wrap) # dStim_nb
tmp_ori = SDF.wrap(distractor_selected_data.orient * 2) / 2


n_bns = 91
bns = np.linspace(-90,90,n_bns)
overlap = 3

# ind = (np.isnan(data['acc']))
# tmp_data = data['acc'][ind==False]
# tmp_ori = data.orient[ind==False]
distractor_distractor_sd = SDF.do_bining(bns,overlap,d_ori,distractor_selected_data['acc']*d2r2,want_var='circ_mean')*r2d2
distractor_distractor_cb = SDF.do_bining(bns,overlap,tmp_ori,distractor_selected_data['acc']*d2r2,want_var='circ_mean')*r2d2

#Serial Bias - distractor vs. no distractor 

plt.figure(figsize=(3,4))
plt.plot(bns,control_sd,'k',label='$Control-Stim~_{N-1}$')

plt.plot(bns,distractor_distractor_sd,'r',label='$Distract-Stim~_{N-1}$')
plt.xlabel("Δθ (deg)")
plt.ylabel("% of responses")
SDF.d_plot(1,9.9,-90)
plt.legend()
plt.title('Serial Bias: distractor_distractor')
plt.show()

#graph cardinal bias - distractor vs. no distractor 
plt.figure(figsize=(3,4))
plt.plot(bns,control_cb,color='k',label='Cont. Cardinal Bias')
plt.plot(bns,distractor_distractor_cb,color='r',label='Cardinal Bias')
plt.xlabel("Δθ (deg)")
plt.ylabel("% of responses")  
SDF.d_plot(1,9.9,-90)
plt.legend()
plt.title('Cardianl Bias: distractor_distractor')
plt.show()


Division by Kappa Value
Filter the data based on kappa (50, 100, 5000)
Loop through trials, store data in a dataframe

low - low
high - low
high - high
low - high
*This is across all trials (distractor and non-distractor)

Low - Low Kappa (all trials)
# Initialize an empty list to store the trials that had a distractor
low_low_kappa_cond = []

# Loop through each row in the DataFrame
for index, row in data.iterrows():
    # Check if the distractor value is > 0 
    if row["kappa"] == 50 and data.loc[index-1, "kappa"] == 50:
        # If the distractor value is > 0, append the trial to the list
        low_low_kappa_cond.append(row)
        
# Create a new DataFrame from the selected rows
low_low_kappa_cond_data = pd.DataFrame(low_low_kappa_cond)

#graph low_low_kappa serial dependence 
nb=-1
d_ori = SDF.get_nb(nb,low_low_kappa_cond_data['orient'].values,1,ori_wrap) # dStim_nb
tmp_ori = SDF.wrap(low_low_kappa_cond_data.orient * 2) / 2


n_bns = 91
bns = np.linspace(-90,90,n_bns)
overlap = 3

# ind = (np.isnan(data['acc']))
# tmp_data = data['acc'][ind==False]
# tmp_ori = data.orient[ind==False]
low_low_kappa_cond_sd = SDF.do_bining(bns,overlap,d_ori,low_low_kappa_cond_data['acc']*d2r2,want_var='circ_mean')*r2d2
low_low_kappa_cond_cb = SDF.do_bining(bns,overlap,tmp_ori,low_low_kappa_cond_data['acc']*d2r2,want_var='circ_mean')*r2d2

#Serial Bias - low-low kappa

# #Control w/ out distractor
# plt.plot(bns,control_sd,'r',label='$Control-Stim~_{N-1}$')
# plt.plot(bns,control_cb,color='k',label='Cont. Cardinal Bias')

plt.figure(figsize=(3,4))
plt.plot(bns,low_low_kappa_cond_sd,'k',label='$Stim~_{N-1}$')
plt.plot(bns,low_low_kappa_cond_cb,color='r',label='Cardinal Bias')
plt.xlabel("Δθ (deg)")
plt.ylabel("% of responses")
SDF.d_plot(1,9.9,-90)
plt.legend()
plt.title('Pooled Bias:Low-Low Kappa All Trials')

# # Print the list of subjects where distractor is > 0 
# low_low_kappa_cond_data.head()
plt.show()

Low - Low Kappa (distractor vs. control trials)
# Initialize an empty list to store the trials that had a distractor
low_low_kappa_distractor = []

# Loop through each row in the DataFrame
for index, row in data.iterrows():
    # Check if the distractor value is > 0 
    if row["kappa"] == 50 and data.loc[index-1, "kappa"] == 50 and row["distractor"] > 0:
        # If the distractor value is > 0, append the trial to the list
        low_low_kappa_distractor.append(row)
        
# Create a new DataFrame from the selected rows
low_low_kappa_distractor_data = pd.DataFrame(low_low_kappa_distractor)

# Print the list of subjects where distractor is > 0 
low_low_kappa_distractor_data.head()
orient	distractor	kappa	subject	resp	respRT	acc	traj
16	62.0	0.15	50.0	2.0	NaN	0.000000	NaN	0.0
17	156.0	1.00	50.0	2.0	30.0	2.553150	54.0	29.0
23	159.0	1.00	50.0	2.0	151.0	2.541487	-8.0	3.0
26	111.0	1.00	50.0	2.0	NaN	0.000000	NaN	0.0
27	90.0	0.15	50.0	2.0	172.0	1.682577	82.0	54.0
#graph low_low_kappa pooled bias for distractor vs. control trials 
nb=-1
d_ori = SDF.get_nb(nb,low_low_kappa_distractor_data['orient'].values,1,ori_wrap) # dStim_nb
tmp_ori = SDF.wrap(low_low_kappa_distractor_data.orient * 2) / 2


n_bns = 91
bns = np.linspace(-90,90,n_bns)
overlap = 3

# ind = (np.isnan(data['acc']))
# tmp_data = data['acc'][ind==False]
# tmp_ori = data.orient[ind==False]
low_low_kappa_distractor_sd = SDF.do_bining(bns,overlap,d_ori,low_low_kappa_distractor_data['acc']*d2r2,want_var='circ_mean')*r2d2
low_low_kappa_distractor_cb = SDF.do_bining(bns,overlap,tmp_ori,low_low_kappa_distractor_data['acc']*d2r2,want_var='circ_mean')*r2d2

#Pooled Bias - low-low kappa

# #Control w/ out distractor
# plt.plot(bns,control_sd,'r',label='$Control-Stim~_{N-1}$')
# plt.plot(bns,control_cb,color='k',label='Cont. Cardinal Bias')

plt.figure(figsize=(3,4))
plt.plot(bns,low_low_kappa_distractor_sd,'k',label='$Stim~_{N-1}$')
plt.plot(bns,low_low_kappa_distractor_cb,color='r',label='Cardinal Bias')
plt.xlabel("Δθ (deg)")
plt.ylabel("% of responses")
SDF.d_plot(1,9.9,-90)
plt.legend()
plt.title('Pooled Bias:low_low kappa distractor trials')
plt.show()

#Pooled Bias - low-low kappa: distractor and control 

# #Control w/ out distractor
# plt.plot(bns,control_sd,'r',label='$Control-Stim~_{N-1}$')
# plt.plot(bns,control_cb,color='k',label='Cont. Cardinal Bias')

#Serial Bias
plt.figure(figsize=(3,4))
plt.plot(bns,control_sd,'k',label='$ContStim~_{N-1}$')

plt.plot(bns,low_low_kappa_distractor_sd,'r',label='$Stim~_{N-1}$')
plt.xlabel("Δθ (deg)")
plt.ylabel("% of responses")
SDF.d_plot(1,9.9,-90)
plt.legend()
plt.title('Serial Bias:low_low kappa distractor trials')
plt.show()

#Caridnal Bias
plt.figure(figsize=(3,4))
plt.plot(bns,control_cb,color='k',label='ContCardinal Bias')

plt.plot(bns,low_low_kappa_distractor_cb,color='r',label='Cardinal Bias')

plt.xlabel("Δθ (deg)")
plt.ylabel("% of responses")
SDF.d_plot(1,9.9,-90)
plt.legend()
plt.title('Cardinal Bias:low_low kappa distractor trials')
plt.show()


Low-high kappa
# Initialize an empty list to store the trials that had a distractor
low_high_kappa_ = []

# Loop through each row in the DataFrame
for index, row in data.iterrows():
    # Check if the distractor value is > 0 
    if row["kappa"] == 50 and data.loc[index-1, "kappa"] > 100:
        # If the distractor value is > 0, append the trial to the list
        low_high_kappa_cond.append(row)
        
# Create a new DataFrame from the selected rows
low_high_kappa_cond_data = pd.DataFrame(low_high_kappa_cond)

# Print the list of subjects where distractor is > 0 
low_high_kappa_cond_data.head()
orient	distractor	kappa	subject	resp	respRT	acc	traj
2	84.0	0.0	50.0	2.0	NaN	0.000000	NaN	0.0
10	82.0	0.0	50.0	2.0	NaN	0.000000	NaN	0.0
12	57.0	1.0	50.0	2.0	NaN	0.000000	NaN	0.0
15	91.0	1.0	50.0	2.0	11.5	2.259013	-79.5	-12.5
22	104.0	0.0	50.0	2.0	NaN	0.000000	NaN	0.0
#graph low_low_kappa serial dependence 
nb=-1
d_ori = SDF.get_nb(nb,low_high_kappa_cond_data['orient'].values,1,ori_wrap) # dStim_nb
tmp_ori = SDF.wrap(low_high_kappa_cond_data.orient * 2) / 2


n_bns = 91
bns = np.linspace(-90,90,n_bns)
overlap = 3

# ind = (np.isnan(data['acc']))
# tmp_data = data['acc'][ind==False]
# tmp_ori = data.orient[ind==False]
low_high_kappa_cond_sd = SDF.do_bining(bns,overlap,d_ori,low_high_kappa_cond_data['acc']*d2r2,want_var='circ_mean')*r2d2
low_high_kappa_cond_cb = SDF.do_bining(bns,overlap,tmp_ori,low_high_kappa_cond_data['acc']*d2r2,want_var='circ_mean')*r2d2

#Serial Bias - low-low kappa

# #Control w/ out distractor
# plt.plot(bns,control_sd,'r',label='$Control-Stim~_{N-1}$')
# plt.plot(bns,control_cb,color='k',label='Cont. Cardinal Bias')

plt.figure(figsize=(3,4))
plt.plot(bns,low_high_kappa_cond_sd,'k',label='$low-high-kappa-Stim~_{N-1}$')
plt.xlabel("Δθ (deg)")
plt.ylabel("% of responses")
SDF.d_plot(1,9.9,-90)
plt.legend()
plt.title('Serial Bias:low_high_kappa')
plt.show()

#graph cardinal bias - distractor vs. no distractor 
plt.figure(figsize=(3,4))
plt.plot(bns,low_high_kappa_cond_cb,color='r',label='low-high-kappa Cardinal Bias')
plt.xlabel("Δθ (deg)")
plt.ylabel("% of responses")
SDF.d_plot(1,9.9,-90)
plt.legend()
plt.title('Cardianl Bias: low_high_kappa_kappa')
plt.show()

