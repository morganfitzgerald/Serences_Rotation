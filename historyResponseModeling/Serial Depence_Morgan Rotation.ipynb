{
 "cells": [
  {
   "cell_type": "markdown",
   "id": "1ee96813",
   "metadata": {},
   "source": [
    "# Serial Dependence Morgan's Rotation\n",
    "\n",
    "Tim's git hub code: https://github.com/TimCSheehan/historyResponseModeling\n",
    "\n",
    "Holly's data: 'data/WM_noisev8_230316.csv'\n",
    "\n",
    "The path to the data is: smb://cube.ucsd.edu/pclexp/Holly/Holmes/Data. The .mat files are individual subject's data which I compiled the information that I needed to take a preliminary look at main effects in a .csv file in the same folder.\n"
   ]
  },
  {
   "cell_type": "markdown",
   "id": "fd8a43b8",
   "metadata": {},
   "source": [
    "Holly's Data: \n",
    "- [x] kappa - bandwidth of the orientation filter for the target stimuli (low kappa means an orientation that looks more noisy and high kappa is an orientation that looks clearer)\n",
    "- [x] traj - trajectory which is the trajectory of the response (which way they spun the orientation response line)\n",
    "- [x] orient - probed item orientation (aka correctAngle)\n",
    "- [x] distractor - non-probed item orientation (aka distractAngle)\n",
    "- [x] respRT - response time (aka RT) \n",
    "- [x] acc - accuracy (the target orientation - the response orientation); aka E\n",
    "- [x] resp - final orientation response in degrees (aka respAngle)\n",
    "- [x] subject - participant"
   ]
  },
  {
   "cell_type": "markdown",
   "id": "88769a83",
   "metadata": {},
   "source": [
    "To do: \n",
    "1st\n",
    "- Filter the data based on distrctor (0 or 1) \n",
    "- Plot serial dependence w/ and w/o distractor \n",
    "\n",
    "2nd\n",
    "- Filter the data based on kappa (50, 100, 5000) \n",
    "- Loop through trials, store data in a dataframe \n",
    "    - low - low \n",
    "    -  high - low \n",
    "    - high - high \n",
    "    - low - high \n",
    "    \n"
   ]
  },
  {
   "cell_type": "code",
   "execution_count": null,
   "id": "2a8c1730",
   "metadata": {},
   "outputs": [],
   "source": []
  }
 ],
 "metadata": {
  "kernelspec": {
   "display_name": "Python 3 (ipykernel)",
   "language": "python",
   "name": "python3"
  },
  "language_info": {
   "codemirror_mode": {
    "name": "ipython",
    "version": 3
   },
   "file_extension": ".py",
   "mimetype": "text/x-python",
   "name": "python",
   "nbconvert_exporter": "python",
   "pygments_lexer": "ipython3",
   "version": "3.10.8"
  }
 },
 "nbformat": 4,
 "nbformat_minor": 5
}
